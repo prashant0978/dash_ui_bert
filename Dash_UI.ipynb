{
 "cells": [
  {
   "cell_type": "code",
   "execution_count": null,
   "id": "2a10bd56",
   "metadata": {
    "ExecuteTime": {
     "start_time": "2021-10-28T17:12:59.957Z"
    }
   },
   "outputs": [
    {
     "name": "stdout",
     "output_type": "stream",
     "text": [
      "Config Import Successfull\n",
      "Dash is running on http://127.0.0.1:8030/\n",
      "\n",
      " * Serving Flask app \"main\" (lazy loading)\n",
      " * Environment: production\n",
      "   WARNING: This is a development server. Do not use it in a production deployment.\n",
      "   Use a production WSGI server instead.\n",
      " * Debug mode: off\n"
     ]
    },
    {
     "name": "stderr",
     "output_type": "stream",
     "text": [
      " * Running on http://127.0.0.1:8030/ (Press CTRL+C to quit)\n",
      "127.0.0.1 - - [28/Oct/2021 22:43:05] \"\u001b[37mGET / HTTP/1.1\u001b[0m\" 200 -\n",
      "127.0.0.1 - - [28/Oct/2021 22:43:05] \"\u001b[37mGET /_dash-layout HTTP/1.1\u001b[0m\" 200 -\n",
      "127.0.0.1 - - [28/Oct/2021 22:43:05] \"\u001b[37mGET /_dash-dependencies HTTP/1.1\u001b[0m\" 200 -\n",
      "127.0.0.1 - - [28/Oct/2021 22:43:05] \"\u001b[37mPOST /_dash-update-component HTTP/1.1\u001b[0m\" 200 -\n",
      "127.0.0.1 - - [28/Oct/2021 22:43:05] \"\u001b[37mPOST /_dash-update-component HTTP/1.1\u001b[0m\" 200 -\n"
     ]
    }
   ],
   "source": [
    "import dash\n",
    "import dash_bootstrap_components as dbc\n",
    "from dash import dcc\n",
    "from dash import html\n",
    "from dash.dependencies import Input, Output, State\n",
    "\n",
    "\n",
    "# Connect to main app.py file\n",
    "from main import app\n",
    "from main import server\n",
    "\n",
    "# Connect to your app pages\n",
    "from app import textbox, upload\n",
    "\n",
    "\n",
    "# styling the sidebar\n",
    "SIDEBAR_STYLE = {\n",
    "    \"position\": \"fixed\",\n",
    "    \"top\": 0,\n",
    "    \"left\": 0,\n",
    "    \"bottom\": 0,\n",
    "    \"width\": \"16rem\",\n",
    "    \"padding\": \"2rem 1rem\",\n",
    "    \"color\": \"#f5f0ed\",\n",
    "    \"background-color\": \"#8A8783\"}\n",
    "\n",
    "# padding for the page content\n",
    "CONTENT_STYLE = {\n",
    "    \"margin-left\": \"18rem\",\n",
    "    \"margin-right\": \"2rem\",\n",
    "    \"padding\": \"1rem 1rem\"\n",
    "}\n",
    "\n",
    "sidebar = html.Div([\n",
    "        html.Img(src='./assets/exxonmobil_black_logo.png', style={\"max-width\": \"200px\", \"margin-left\": \"0.5rem\"}),\n",
    "        html.Hr(),\n",
    "        html.H4(\"Risk Assessment \", style={'textAlign': 'center'}),      \n",
    "        html.P(\"Machine Learning Tool\", className=\"lead\", style={'textAlign': 'center'}),\n",
    "        html.Br(),\n",
    "        dbc.Nav([\n",
    "        dbc.NavLink(\"User Input\", href=\"/app/textbox\", className=\"page-link\",\n",
    "                   style = {\"color\": \"#f5f0ed\", \"background-color\": \"#73706c\", \"height\": \"40px\"}),\n",
    "        html.Br(style={\"margin-top\": \"5px\"}),\n",
    "        dbc.NavLink(\"Batch Prediction\", href=\"/app/upload\", className=\"page-link\",\n",
    "                   style = {\"color\": \"#f5f0ed\", \"background-color\": \"#73706c\",  \"height\": \"40px\"})],\n",
    "        vertical=True,\n",
    "        pills=True,\n",
    "        )],\n",
    "    style=SIDEBAR_STYLE,\n",
    ")\n",
    "\n",
    "content = html.Div(id=\"page-content\", children=[], style=CONTENT_STYLE)\n",
    "\n",
    "#app layout\n",
    "\n",
    "app.layout = html.Div([\n",
    "    dcc.Location(id=\"url\"),\n",
    "    sidebar,\n",
    "    content,\n",
    "    html.Div(id='output-data-upload'),],\n",
    "    style = {\"body-bg\": \"#f5f0ed\"}\n",
    "    )\n",
    "\n",
    "@app.callback(Output('page-content', 'children'),\n",
    "              [Input('url', 'pathname')])\n",
    "def display_page(pathname):\n",
    "    if pathname == '/app/textbox':\n",
    "        return textbox.layout\n",
    "    if pathname == '/app/upload':\n",
    "        return upload.layout\n",
    "    else:\n",
    "        return textbox.layout    \n",
    "    \n",
    "if __name__=='__main__':\n",
    "    app.run_server(debug=False, use_reloader=False, port = 8030)"
   ]
  },
  {
   "cell_type": "code",
   "execution_count": null,
   "id": "32f7d792",
   "metadata": {},
   "outputs": [],
   "source": []
  }
 ],
 "metadata": {
  "kernelspec": {
   "display_name": "Python 3",
   "language": "python",
   "name": "python3"
  },
  "language_info": {
   "codemirror_mode": {
    "name": "ipython",
    "version": 3
   },
   "file_extension": ".py",
   "mimetype": "text/x-python",
   "name": "python",
   "nbconvert_exporter": "python",
   "pygments_lexer": "ipython3",
   "version": "3.8.8"
  },
  "toc": {
   "base_numbering": 1,
   "nav_menu": {},
   "number_sections": true,
   "sideBar": true,
   "skip_h1_title": false,
   "title_cell": "Table of Contents",
   "title_sidebar": "Contents",
   "toc_cell": false,
   "toc_position": {},
   "toc_section_display": true,
   "toc_window_display": false
  },
  "varInspector": {
   "cols": {
    "lenName": 16,
    "lenType": 16,
    "lenVar": 40
   },
   "kernels_config": {
    "python": {
     "delete_cmd_postfix": "",
     "delete_cmd_prefix": "del ",
     "library": "var_list.py",
     "varRefreshCmd": "print(var_dic_list())"
    },
    "r": {
     "delete_cmd_postfix": ") ",
     "delete_cmd_prefix": "rm(",
     "library": "var_list.r",
     "varRefreshCmd": "cat(var_dic_list()) "
    }
   },
   "types_to_exclude": [
    "module",
    "function",
    "builtin_function_or_method",
    "instance",
    "_Feature"
   ],
   "window_display": false
  }
 },
 "nbformat": 4,
 "nbformat_minor": 5
}
